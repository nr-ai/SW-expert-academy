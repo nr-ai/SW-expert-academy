{
 "cells": [
  {
   "cell_type": "code",
   "execution_count": 26,
   "metadata": {
    "scrolled": true
   },
   "outputs": [
    {
     "name": "stdout",
     "output_type": "stream",
     "text": [
      "3\n",
      "5\n",
      "477162 658880 751280 927930 297191\n",
      "#1 630739\n",
      "5\n",
      "565469 851600 460874 148692 111090\n",
      "#2 740510\n",
      "10\n",
      "784386 279993 982220 996285 614710 992232 195265 359810 919192 158175\n",
      "#3 838110\n"
     ]
    }
   ],
   "source": [
    "T = int(input())\n",
    "for test in range(1, T+1):\n",
    "    N = int(input())\n",
    "    l = list(map(int,input().split()))\n",
    "    print(\"#%d %d\"%(test,  max(l) - min(l)))"
   ]
  },
  {
   "cell_type": "code",
   "execution_count": 25,
   "metadata": {},
   "outputs": [
    {
     "name": "stdout",
     "output_type": "stream",
     "text": [
      "3\n",
      "3 10 5\n",
      "1 3 5 7 9\n",
      "#1 3\n",
      "3 10 5\n",
      "1 3 7 8 9\n",
      "#2 0\n",
      "5 20 5\n",
      "4 7 9 14 17\n",
      "#3 4\n"
     ]
    }
   ],
   "source": [
    "def find_last_charger(start,k,chargers):\n",
    "    set = []\n",
    "    for i in range(start+1, start+k+1):\n",
    "        if i in chargers:\n",
    "            set.append(i)\n",
    "    if not set:\n",
    "        return 0\n",
    "    else : \n",
    "        return max(set)\n",
    "    \n",
    "    \n",
    "\n",
    "\n",
    "T = int(input())\n",
    "\n",
    "\n",
    "for test_case in range(1, T+1):\n",
    "    last_charger = 0\n",
    "    count=0\n",
    "    K, N, M = map(int, input().split())\n",
    "    chargers = list(map(int, input().split())) #1,3,5,7,9    \n",
    "    while(last_charger < N-K):\n",
    "        last_charger = find_last_charger(last_charger,K,chargers)\n",
    "        if last_charger == 0:\n",
    "            count =0\n",
    "            break\n",
    "        else: \n",
    "            count+=1\n",
    "    print(\"#%d %d\"%(test_case, count))"
   ]
  }
 ],
 "metadata": {
  "kernelspec": {
   "display_name": "Python 3",
   "language": "python",
   "name": "python3"
  },
  "language_info": {
   "codemirror_mode": {
    "name": "ipython",
    "version": 3
   },
   "file_extension": ".py",
   "mimetype": "text/x-python",
   "name": "python",
   "nbconvert_exporter": "python",
   "pygments_lexer": "ipython3",
   "version": "3.7.6"
  }
 },
 "nbformat": 4,
 "nbformat_minor": 4
}
